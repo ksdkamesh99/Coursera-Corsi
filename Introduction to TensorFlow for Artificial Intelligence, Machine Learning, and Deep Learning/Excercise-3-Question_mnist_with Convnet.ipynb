{
 "cells": [
  {
   "cell_type": "markdown",
   "metadata": {
    "colab_type": "text",
    "id": "iQjHqsmTAVLU"
   },
   "source": [
    "## Exercise 3\n",
    "In the videos you looked at how you would improve Fashion MNIST using Convolutions. For your exercise see if you can improve MNIST to 99.8% accuracy or more using only a single convolutional layer and a single MaxPooling 2D. You should stop training once the accuracy goes above this amount. It should happen in less than 20 epochs, so it's ok to hard code the number of epochs for training, but your training must end once it hits the above metric. If it doesn't, then you'll need to redesign your layers.\n",
    "\n",
    "I've started the code for you -- you need to finish it!\n",
    "\n",
    "When 99.8% accuracy has been hit, you should print out the string \"Reached 99.8% accuracy so cancelling training!\"\n"
   ]
  },
  {
   "cell_type": "code",
   "execution_count": 1,
   "metadata": {},
   "outputs": [],
   "source": [
    "import tensorflow as tf\n",
    "from os import path, getcwd, chdir\n",
    "\n",
    "# DO NOT CHANGE THE LINE BELOW. If you are developing in a local\n",
    "# environment, then grab mnist.npz from the Coursera Jupyter Notebook\n",
    "# and place it inside a local folder and edit the path to that location\n",
    "path = f\"{getcwd()}/../tmp2/mnist.npz\""
   ]
  },
  {
   "cell_type": "code",
   "execution_count": 2,
   "metadata": {},
   "outputs": [],
   "source": [
    "config = tf.ConfigProto()\n",
    "config.gpu_options.allow_growth = True\n",
    "sess = tf.Session(config=config)"
   ]
  },
  {
   "cell_type": "code",
   "execution_count": 8,
   "metadata": {},
   "outputs": [],
   "source": [
    "import numpy as np"
   ]
  },
  {
   "cell_type": "code",
   "execution_count": 11,
   "metadata": {},
   "outputs": [],
   "source": [
    "# GRADED FUNCTION: train_mnist_conv\n",
    "def train_mnist_conv():\n",
    "    # Please write your code only where you are indicated.\n",
    "    # please do not remove model fitting inline comments.\n",
    "\n",
    "    # YOUR CODE STARTS HERE\n",
    "    \n",
    "    # YOUR CODE ENDS HERE\n",
    "\n",
    "    mnist = tf.keras.datasets.mnist\n",
    "    (training_images, training_labels), (test_images, test_labels) = mnist.load_data(path=path)\n",
    "    # YOUR CODE STARTS HERE\n",
    "    training_images=training_images/255\n",
    "    test_images=test_images/255\n",
    "    training_images=np.expand_dims(training_images,axis=3)\n",
    "    test_images=np.expand_dims(test_images,axis=3)\n",
    "    # YOUR CODE ENDS HERE\n",
    "\n",
    "    model = tf.keras.models.Sequential([\n",
    "            # YOUR CODE STARTS HERE\n",
    "        tf.keras.layers.Conv2D(64,kernel_size=(5,5),activation='relu',input_shape=(28,28,1)),\n",
    "        tf.keras.layers.MaxPooling2D(pool_size=(3,3)),\n",
    "        tf.keras.layers.Flatten(),\n",
    "        tf.keras.layers.Dense(512,activation='relu'),\n",
    "        tf.keras.layers.Dense(10,activation='softmax')\n",
    "\n",
    "            # YOUR CODE ENDS HERE\n",
    "    ])\n",
    "\n",
    "    model.compile(optimizer='adam', loss='sparse_categorical_crossentropy', metrics=['accuracy'])\n",
    "    # model fitting\n",
    "    history = model.fit(training_images,training_labels,epochs=19,validation_data=(test_images,test_labels))\n",
    "    # model fitting\n",
    "    return history.epoch, history.history['acc'][-1]\n",
    "\n"
   ]
  },
  {
   "cell_type": "code",
   "execution_count": 12,
   "metadata": {},
   "outputs": [
    {
     "name": "stdout",
     "output_type": "stream",
     "text": [
      "Train on 60000 samples, validate on 10000 samples\n",
      "Epoch 1/19\n",
      "60000/60000 [==============================] - 22s 374us/sample - loss: 0.1086 - acc: 0.9665 - val_loss: 0.0406 - val_acc: 0.9856\n",
      "Epoch 2/19\n",
      "60000/60000 [==============================] - 16s 262us/sample - loss: 0.0375 - acc: 0.9878 - val_loss: 0.0370 - val_acc: 0.9888\n",
      "Epoch 3/19\n",
      "60000/60000 [==============================] - 16s 262us/sample - loss: 0.0243 - acc: 0.9921 - val_loss: 0.0391 - val_acc: 0.9889\n",
      "Epoch 4/19\n",
      "60000/60000 [==============================] - 17s 280us/sample - loss: 0.0182 - acc: 0.9940 - val_loss: 0.0298 - val_acc: 0.9912\n",
      "Epoch 5/19\n",
      "60000/60000 [==============================] - 17s 285us/sample - loss: 0.0125 - acc: 0.9961 - val_loss: 0.0315 - val_acc: 0.9908\n",
      "Epoch 6/19\n",
      "60000/60000 [==============================] - 17s 287us/sample - loss: 0.0097 - acc: 0.9966 - val_loss: 0.0456 - val_acc: 0.9883\n",
      "Epoch 7/19\n",
      "60000/60000 [==============================] - 17s 288us/sample - loss: 0.0090 - acc: 0.9968 - val_loss: 0.0580 - val_acc: 0.9869\n",
      "Epoch 8/19\n",
      "60000/60000 [==============================] - 17s 285us/sample - loss: 0.0068 - acc: 0.9980 - val_loss: 0.0380 - val_acc: 0.9906\n",
      "Epoch 9/19\n",
      "60000/60000 [==============================] - 18s 293us/sample - loss: 0.0061 - acc: 0.9980 - val_loss: 0.0360 - val_acc: 0.9910\n",
      "Epoch 10/19\n",
      "60000/60000 [==============================] - 17s 289us/sample - loss: 0.0048 - acc: 0.9984 - val_loss: 0.0524 - val_acc: 0.9885\n",
      "Epoch 11/19\n",
      "60000/60000 [==============================] - 17s 280us/sample - loss: 0.0054 - acc: 0.9982 - val_loss: 0.0534 - val_acc: 0.9909\n",
      "Epoch 12/19\n",
      "60000/60000 [==============================] - 17s 276us/sample - loss: 0.0058 - acc: 0.9983 - val_loss: 0.0512 - val_acc: 0.9893\n",
      "Epoch 13/19\n",
      "60000/60000 [==============================] - 17s 278us/sample - loss: 0.0036 - acc: 0.9990 - val_loss: 0.0542 - val_acc: 0.9892\n",
      "Epoch 14/19\n",
      "60000/60000 [==============================] - 17s 280us/sample - loss: 0.0040 - acc: 0.9989 - val_loss: 0.0570 - val_acc: 0.9905\n",
      "Epoch 15/19\n",
      "60000/60000 [==============================] - 17s 285us/sample - loss: 0.0045 - acc: 0.9987 - val_loss: 0.0593 - val_acc: 0.9909\n",
      "Epoch 16/19\n",
      "60000/60000 [==============================] - 17s 285us/sample - loss: 0.0027 - acc: 0.9991 - val_loss: 0.0692 - val_acc: 0.9893\n",
      "Epoch 17/19\n",
      "60000/60000 [==============================] - 17s 290us/sample - loss: 0.0049 - acc: 0.9987 - val_loss: 0.0614 - val_acc: 0.9899\n",
      "Epoch 18/19\n",
      "60000/60000 [==============================] - 17s 284us/sample - loss: 0.0038 - acc: 0.9990 - val_loss: 0.0734 - val_acc: 0.9888\n",
      "Epoch 19/19\n",
      "60000/60000 [==============================] - 18s 303us/sample - loss: 0.0024 - acc: 0.9994 - val_loss: 0.0699 - val_acc: 0.9897\n"
     ]
    }
   ],
   "source": [
    "_, _ = train_mnist_conv()"
   ]
  },
  {
   "cell_type": "code",
   "execution_count": null,
   "metadata": {},
   "outputs": [],
   "source": [
    "# Now click the 'Submit Assignment' button above.\n",
    "# Once that is complete, please run the following two cells to save your work and close the notebook"
   ]
  },
  {
   "cell_type": "code",
   "execution_count": null,
   "metadata": {},
   "outputs": [],
   "source": [
    "%%javascript\n",
    "<!-- Save the notebook -->\n",
    "IPython.notebook.save_checkpoint();"
   ]
  },
  {
   "cell_type": "code",
   "execution_count": null,
   "metadata": {},
   "outputs": [],
   "source": [
    "%%javascript\n",
    "IPython.notebook.session.delete();\n",
    "window.onbeforeunload = null\n",
    "setTimeout(function() { window.close(); }, 1000);"
   ]
  }
 ],
 "metadata": {
  "coursera": {
   "course_slug": "introduction-tensorflow",
   "graded_item_id": "ml06H",
   "launcher_item_id": "hQF8A"
  },
  "kernelspec": {
   "display_name": "Python 3",
   "language": "python",
   "name": "python3"
  },
  "language_info": {
   "codemirror_mode": {
    "name": "ipython",
    "version": 3
   },
   "file_extension": ".py",
   "mimetype": "text/x-python",
   "name": "python",
   "nbconvert_exporter": "python",
   "pygments_lexer": "ipython3",
   "version": "3.6.8"
  }
 },
 "nbformat": 4,
 "nbformat_minor": 1
}
