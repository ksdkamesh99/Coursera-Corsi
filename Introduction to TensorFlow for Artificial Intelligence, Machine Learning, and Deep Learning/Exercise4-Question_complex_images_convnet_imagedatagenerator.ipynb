{
 "cells": [
  {
   "cell_type": "markdown",
   "metadata": {
    "colab_type": "text",
    "id": "UncprnB0ymAE"
   },
   "source": [
    "Below is code with a link to a happy or sad dataset which contains 80 images, 40 happy and 40 sad. \n",
    "Create a convolutional neural network that trains to 100% accuracy on these images,  which cancels training upon hitting training accuracy of >.999\n",
    "\n",
    "Hint -- it will work best with 3 convolutional layers."
   ]
  },
  {
   "cell_type": "code",
   "execution_count": 1,
   "metadata": {},
   "outputs": [],
   "source": [
    "import tensorflow as tf\n",
    "import os\n",
    "import zipfile\n",
    "from os import path, getcwd, chdir\n",
    "\n",
    "# DO NOT CHANGE THE LINE BELOW. If you are developing in a local\n",
    "# environment, then grab happy-or-sad.zip from the Coursera Jupyter Notebook\n",
    "# and place it inside a local folder and edit the path to that location\n",
    "path = f\"{getcwd()}/../tmp2/happy-or-sad.zip\"\n",
    "\n",
    "zip_ref = zipfile.ZipFile(path, 'r')\n",
    "zip_ref.extractall(\"/tmp/h-or-s\")\n",
    "zip_ref.close()"
   ]
  },
  {
   "cell_type": "code",
   "execution_count": 10,
   "metadata": {},
   "outputs": [],
   "source": [
    "# GRADED FUNCTION: train_happy_sad_model\n",
    "def train_happy_sad_model():\n",
    "    # Please write your code only where you are indicated.\n",
    "    # please do not remove # model fitting inline comments.\n",
    "\n",
    "    DESIRED_ACCURACY = 0.999\n",
    "\n",
    "    \n",
    "    # This Code Block should Define and Compile the Model. Please assume the images are 150 X 150 in your implementation.\n",
    "    model = tf.keras.models.Sequential([\n",
    "        # Your Code Here\n",
    "        tf.keras.layers.Conv2D(16,kernel_size=(5,5),activation='relu',input_shape=(150,150,3)),\n",
    "        tf.keras.layers.MaxPooling2D(pool_size=(2,2)),\n",
    "        tf.keras.layers.Conv2D(32,kernel_size=(5,5),activation='relu'),\n",
    "        tf.keras.layers.MaxPooling2D(pool_size=(2,2)),\n",
    "        tf.keras.layers.Conv2D(64,kernel_size=(5,5),activation='relu'),\n",
    "        tf.keras.layers.MaxPooling2D(pool_size=(2,2)),\n",
    "        tf.keras.layers.Flatten(),\n",
    "        tf.keras.layers.Dense(512,activation='relu'),\n",
    "        tf.keras.layers.Dense(1,activation='sigmoid')\n",
    "        \n",
    "    ])\n",
    "\n",
    "    from tensorflow.keras.optimizers import RMSprop\n",
    "\n",
    "    model.compile(loss='binary_crossentropy',metrics=['accuracy'],optimizer=RMSprop(lr=0.001))\n",
    "        \n",
    "\n",
    "    # This code block should create an instance of an ImageDataGenerator called train_datagen \n",
    "    # And a train_generator by calling train_datagen.flow_from_directory\n",
    "\n",
    "    from tensorflow.keras.preprocessing.image import ImageDataGenerator\n",
    "\n",
    "    train_datagen = ImageDataGenerator(rescale=1./255)\n",
    "\n",
    "    # Please use a target_size of 150 X 150.\n",
    "    train_generator = train_datagen.flow_from_directory(\n",
    "        \"/tmp/h-or-s\",batch_size=4,target_size=(150,150),class_mode='binary')\n",
    "        # Your Code Here)\n",
    "    # Expected output: 'Found 80 images belonging to 2 classes'\n",
    "\n",
    "    # This code block should call model.fit_generator and train for\n",
    "    # a number of epochs.\n",
    "    # model fitting\n",
    "    history = model.fit_generator(train_generator,epochs=20)\n",
    "          # Your Code Here)\n",
    "    # model fitting\n",
    "    return history.history['acc'][-1]"
   ]
  },
  {
   "cell_type": "code",
   "execution_count": 11,
   "metadata": {},
   "outputs": [
    {
     "name": "stderr",
     "output_type": "stream",
     "text": [
      "W0602 16:31:39.310365 140644650891072 deprecation.py:323] From /usr/local/lib/python3.6/dist-packages/tensorflow/python/ops/nn_impl.py:180: add_dispatch_support.<locals>.wrapper (from tensorflow.python.ops.array_ops) is deprecated and will be removed in a future version.\n",
      "Instructions for updating:\n",
      "Use tf.where in 2.0, which has the same broadcast rule as np.where\n"
     ]
    },
    {
     "name": "stdout",
     "output_type": "stream",
     "text": [
      "Found 80 images belonging to 2 classes.\n",
      "Epoch 1/20\n",
      "20/20 [==============================] - 6s 279ms/step - loss: 3.8764 - acc: 0.5625\n",
      "Epoch 2/20\n",
      "20/20 [==============================] - 1s 35ms/step - loss: 0.6581 - acc: 0.7750\n",
      "Epoch 3/20\n",
      "20/20 [==============================] - 1s 35ms/step - loss: 0.4889 - acc: 0.7625\n",
      "Epoch 4/20\n",
      "20/20 [==============================] - 1s 40ms/step - loss: 0.2436 - acc: 0.8875\n",
      "Epoch 5/20\n",
      "20/20 [==============================] - 1s 40ms/step - loss: 0.1632 - acc: 0.9625\n",
      "Epoch 6/20\n",
      "20/20 [==============================] - 1s 45ms/step - loss: 0.1494 - acc: 0.9500\n",
      "Epoch 7/20\n",
      "20/20 [==============================] - 1s 40ms/step - loss: 0.1391 - acc: 0.9375\n",
      "Epoch 8/20\n",
      "20/20 [==============================] - 1s 40ms/step - loss: 0.0323 - acc: 1.0000\n",
      "Epoch 9/20\n",
      "20/20 [==============================] - 1s 40ms/step - loss: 0.0090 - acc: 1.0000\n",
      "Epoch 10/20\n",
      "20/20 [==============================] - 1s 40ms/step - loss: 6.9138e-04 - acc: 1.0000\n",
      "Epoch 11/20\n",
      "20/20 [==============================] - 1s 40ms/step - loss: 8.2460e-05 - acc: 1.0000\n",
      "Epoch 12/20\n",
      "20/20 [==============================] - 1s 35ms/step - loss: 3.7469e-05 - acc: 1.0000\n",
      "Epoch 13/20\n",
      "20/20 [==============================] - 1s 40ms/step - loss: 5.2296e-05 - acc: 1.0000\n",
      "Epoch 14/20\n",
      "20/20 [==============================] - 1s 36ms/step - loss: 0.0585 - acc: 0.9875\n",
      "Epoch 15/20\n",
      "20/20 [==============================] - 1s 40ms/step - loss: 2.8687e-06 - acc: 1.0000: 1s - loss: 2.7878e-09 - acc:\n",
      "Epoch 16/20\n",
      "20/20 [==============================] - 1s 39ms/step - loss: 2.7452e-06 - acc: 1.0000\n",
      "Epoch 17/20\n",
      "20/20 [==============================] - 1s 40ms/step - loss: 2.4763e-06 - acc: 1.0000: 0s - loss: 3.1582e-06 - acc: 1\n",
      "Epoch 18/20\n",
      "20/20 [==============================] - 1s 35ms/step - loss: 1.9686e-06 - acc: 1.0000\n",
      "Epoch 19/20\n",
      "20/20 [==============================] - 1s 40ms/step - loss: 8.5964e-07 - acc: 1.0000\n",
      "Epoch 20/20\n",
      "20/20 [==============================] - 1s 40ms/step - loss: 3.6271e-07 - acc: 1.0000\n"
     ]
    },
    {
     "data": {
      "text/plain": [
       "1.0"
      ]
     },
     "execution_count": 11,
     "metadata": {},
     "output_type": "execute_result"
    }
   ],
   "source": [
    "# The Expected output: \"Reached 99.9% accuracy so cancelling training!\"\"\n",
    "train_happy_sad_model()"
   ]
  },
  {
   "cell_type": "code",
   "execution_count": 4,
   "metadata": {},
   "outputs": [],
   "source": [
    "# Now click the 'Submit Assignment' button above.\n",
    "# Once that is complete, please run the following two cells to save your work and close the notebook"
   ]
  },
  {
   "cell_type": "code",
   "execution_count": null,
   "metadata": {},
   "outputs": [],
   "source": [
    "%%javascript\n",
    "<!-- Save the notebook -->\n",
    "IPython.notebook.save_checkpoint();"
   ]
  },
  {
   "cell_type": "code",
   "execution_count": null,
   "metadata": {},
   "outputs": [],
   "source": [
    "%%javascript\n",
    "IPython.notebook.session.delete();\n",
    "window.onbeforeunload = null\n",
    "setTimeout(function() { window.close(); }, 1000);"
   ]
  }
 ],
 "metadata": {
  "coursera": {
   "course_slug": "introduction-tensorflow",
   "graded_item_id": "1kAlw",
   "launcher_item_id": "PNLYD"
  },
  "kernelspec": {
   "display_name": "Python 3",
   "language": "python",
   "name": "python3"
  },
  "language_info": {
   "codemirror_mode": {
    "name": "ipython",
    "version": 3
   },
   "file_extension": ".py",
   "mimetype": "text/x-python",
   "name": "python",
   "nbconvert_exporter": "python",
   "pygments_lexer": "ipython3",
   "version": "3.6.8"
  }
 },
 "nbformat": 4,
 "nbformat_minor": 1
}
